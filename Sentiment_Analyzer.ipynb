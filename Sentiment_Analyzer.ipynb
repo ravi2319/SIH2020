{
  "nbformat": 4,
  "nbformat_minor": 0,
  "metadata": {
    "colab": {
      "name": "Sentiment Analyzer.ipynb",
      "provenance": [],
      "authorship_tag": "ABX9TyPXZzTqR9W/9l9nZ2aE5Ait",
      "include_colab_link": true
    },
    "kernelspec": {
      "name": "python3",
      "display_name": "Python 3"
    }
  },
  "cells": [
    {
      "cell_type": "markdown",
      "metadata": {
        "id": "view-in-github",
        "colab_type": "text"
      },
      "source": [
        "<a href=\"https://colab.research.google.com/github/ravi2319/SIH2020/blob/master/Sentiment_Analyzer.ipynb\" target=\"_parent\"><img src=\"https://colab.research.google.com/assets/colab-badge.svg\" alt=\"Open In Colab\"/></a>"
      ]
    },
    {
      "cell_type": "code",
      "metadata": {
        "id": "iIVygWCPa5d6",
        "colab_type": "code",
        "outputId": "a5d4623f-7fa4-44bf-bda0-34f2471e4531",
        "colab": {
          "base_uri": "https://localhost:8080/",
          "height": 287
        }
      },
      "source": [
        "from nltk.stem.wordnet import WordNetLemmatizer\n",
        "import nltk\n",
        "from nltk.tag import pos_tag\n",
        "from nltk.tokenize import word_tokenize\n",
        "from nltk import FreqDist, classify, NaiveBayesClassifier\n",
        "\n",
        "import re, string, random\n",
        "\n",
        "\n",
        "def remove_noise(tweet_tokens, stop_words = ()):\n",
        "\n",
        "    cleaned_tokens = []\n",
        "\n",
        "    for token, tag in pos_tag(tweet_tokens):\n",
        "        token = re.sub('http[s]?://(?:[a-zA-Z]|[0-9]|[$-_@.&+#]|[!*\\(\\),]|'\\\n",
        "                       '(?:%[0-9a-fA-F][0-9a-fA-F]))+','', token)\n",
        "        token = re.sub(\"(@[A-Za-z0-9_]+)\",\"\", token)\n",
        "\n",
        "        if tag.startswith(\"NN\"):\n",
        "            pos = 'n'\n",
        "        elif tag.startswith('VB'):\n",
        "            pos = 'v'\n",
        "        else:\n",
        "            pos = 'a'\n",
        "\n",
        "        lemmatizer = WordNetLemmatizer()\n",
        "        token = lemmatizer.lemmatize(token, pos)\n",
        "\n",
        "        if len(token) > 0 and token not in string.punctuation and token.lower() not in stop_words:\n",
        "            cleaned_tokens.append(token.lower())\n",
        "    return cleaned_tokens\n",
        "\n",
        "def get_all_words(cleaned_tokens_list):\n",
        "    for tokens in cleaned_tokens_list:\n",
        "        for token in tokens:\n",
        "            yield token\n",
        "\n",
        "def get_tweets_for_model(cleaned_tokens_list):\n",
        "    for tweet_tokens in cleaned_tokens_list:\n",
        "        yield dict([token, True] for token in tweet_tokens)\n",
        "\n",
        "if __name__ == \"__main__\":\n",
        "\n",
        "    import nltk\n",
        "    nltk.download('twitter_samples')\n",
        "    positive_tweets = twitter_samples.strings('positive_tweets.json')\n",
        "    negative_tweets = twitter_samples.strings('negative_tweets.json')\n",
        "    text = twitter_samples.strings('tweets.20150430-223406.json')\n",
        "    tweet_tokens = twitter_samples.tokenized('positive_tweets.json')[0]\n",
        "\n",
        "    stop_words = stopwords.words('english')\n",
        "\n",
        "    positive_tweet_tokens = twitter_samples.tokenized('positive_tweets.json')\n",
        "    negative_tweet_tokens = twitter_samples.tokenized('negative_tweets.json')\n",
        "\n",
        "    positive_cleaned_tokens_list = []\n",
        "    negative_cleaned_tokens_list = []\n",
        "\n",
        "    for tokens in positive_tweet_tokens:\n",
        "        positive_cleaned_tokens_list.append(remove_noise(tokens, stop_words))\n",
        "\n",
        "    for tokens in negative_tweet_tokens:\n",
        "        negative_cleaned_tokens_list.append(remove_noise(tokens, stop_words))\n",
        "\n",
        "    all_pos_words = get_all_words(positive_cleaned_tokens_list)\n",
        "\n",
        "    freq_dist_pos = FreqDist(all_pos_words)\n",
        "    print(freq_dist_pos.most_common(10))\n",
        "\n",
        "    positive_tokens_for_model = get_tweets_for_model(positive_cleaned_tokens_list)\n",
        "    negative_tokens_for_model = get_tweets_for_model(negative_cleaned_tokens_list)\n",
        "\n",
        "    positive_dataset = [(tweet_dict, \"Positive\")\n",
        "                         for tweet_dict in positive_tokens_for_model]\n",
        "\n",
        "    negative_dataset = [(tweet_dict, \"Negative\")\n",
        "                         for tweet_dict in negative_tokens_for_model]\n",
        "\n",
        "    dataset = positive_dataset + negative_dataset\n",
        "\n",
        "    random.shuffle(dataset)\n",
        "\n",
        "    train_data = dataset[:7000]\n",
        "    test_data = dataset[7000:]\n",
        "\n",
        "    classifier = NaiveBayesClassifier.train(train_data)\n",
        "\n",
        "    print(\"Accuracy is:\", classify.accuracy(classifier, test_data))\n",
        "\n",
        "    print(classifier.show_most_informative_features(10))\n",
        "\n",
        "    custom_tweet = \"I ordered just once from TerribleCo, they screwed up, never used the app again.\"\n",
        "\n",
        "    custom_tokens = remove_noise(word_tokenize(custom_tweet))\n",
        "\n",
        "    print(custom_tweet, classifier.classify(dict([token, True] for token in custom_tokens)))"
      ],
      "execution_count": 0,
      "outputs": [
        {
          "output_type": "stream",
          "text": [
            "[nltk_data] Downloading package twitter_samples to /root/nltk_data...\n",
            "[nltk_data]   Package twitter_samples is already up-to-date!\n"
          ],
          "name": "stdout"
        },
        {
          "output_type": "error",
          "ename": "AttributeError",
          "evalue": "ignored",
          "traceback": [
            "\u001b[0;31m---------------------------------------------------------------------------\u001b[0m",
            "\u001b[0;31mAttributeError\u001b[0m                            Traceback (most recent call last)",
            "\u001b[0;32m<ipython-input-6-5fceb2cf5ee5>\u001b[0m in \u001b[0;36m<module>\u001b[0;34m()\u001b[0m\n\u001b[1;32m     43\u001b[0m     \u001b[0;32mimport\u001b[0m \u001b[0mnltk\u001b[0m\u001b[0;34m\u001b[0m\u001b[0;34m\u001b[0m\u001b[0m\n\u001b[1;32m     44\u001b[0m     \u001b[0mnltk\u001b[0m\u001b[0;34m.\u001b[0m\u001b[0mdownload\u001b[0m\u001b[0;34m(\u001b[0m\u001b[0;34m'twitter_samples'\u001b[0m\u001b[0;34m)\u001b[0m\u001b[0;34m\u001b[0m\u001b[0;34m\u001b[0m\u001b[0m\n\u001b[0;32m---> 45\u001b[0;31m     \u001b[0mpositive_tweets\u001b[0m \u001b[0;34m=\u001b[0m \u001b[0mtwitter_samples\u001b[0m\u001b[0;34m.\u001b[0m\u001b[0mstrings\u001b[0m\u001b[0;34m(\u001b[0m\u001b[0;34m'positive_tweets.json'\u001b[0m\u001b[0;34m)\u001b[0m\u001b[0;34m\u001b[0m\u001b[0;34m\u001b[0m\u001b[0m\n\u001b[0m\u001b[1;32m     46\u001b[0m     \u001b[0mnegative_tweets\u001b[0m \u001b[0;34m=\u001b[0m \u001b[0mtwitter_samples\u001b[0m\u001b[0;34m.\u001b[0m\u001b[0mstrings\u001b[0m\u001b[0;34m(\u001b[0m\u001b[0;34m'negative_tweets.json'\u001b[0m\u001b[0;34m)\u001b[0m\u001b[0;34m\u001b[0m\u001b[0;34m\u001b[0m\u001b[0m\n\u001b[1;32m     47\u001b[0m     \u001b[0mtext\u001b[0m \u001b[0;34m=\u001b[0m \u001b[0mtwitter_samples\u001b[0m\u001b[0;34m.\u001b[0m\u001b[0mstrings\u001b[0m\u001b[0;34m(\u001b[0m\u001b[0;34m'tweets.20150430-223406.json'\u001b[0m\u001b[0;34m)\u001b[0m\u001b[0;34m\u001b[0m\u001b[0;34m\u001b[0m\u001b[0m\n",
            "\u001b[0;31mAttributeError\u001b[0m: 'bool' object has no attribute 'strings'"
          ]
        }
      ]
    }
  ]
}